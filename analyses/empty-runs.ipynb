{
 "cells": [
  {
   "cell_type": "markdown",
   "metadata": {},
   "source": [
    "# Distribution of empty runs in NYC"
   ]
  },
  {
   "cell_type": "code",
   "execution_count": null,
   "metadata": {},
   "outputs": [],
   "source": [
    "import setup\n",
    "\n",
    "def distrct_amounts(df, direction):\n",
    "    er_amount_bronx,er_amount_brooklyn,er_amount_manhatten,er_amount_queens,er_amount_staten_island = [],[],[],[],[]\n",
    "    full_amount_bronx,full_amount_brooklyn,full_amount_manhatten,full_amount_queens,full_amount_staten_island = [],[],[],[],[]\n",
    "    er_amount = df.loc[(df['passenger_count'] == 0)][direction].value_counts()\n",
    "    full_amount = df[direction].value_counts()\n",
    "    for key in er_amount.keys():\n",
    "        if key in setup.bronx:\n",
    "            er_amount_bronx.append(er_amount[key])\n",
    "        elif key in setup.brooklyn: \n",
    "            er_amount_brooklyn.append(er_amount[key])\n",
    "        elif key in setup.manhatten:\n",
    "            er_amount_manhatten.append(er_amount[key])\n",
    "        elif key in setup.queens: \n",
    "            er_amount_queens.append(er_amount[key])\n",
    "        elif key in setup.staten_island:\n",
    "            er_amount_staten_island.append(er_amount[key])\n",
    "    for key in full_amount.keys():\n",
    "        if key in setup.bronx:\n",
    "            full_amount_bronx.append(full_amount[key])\n",
    "        elif key in setup.brooklyn: \n",
    "            full_amount_brooklyn.append(full_amount[key])\n",
    "        elif key in setup.manhatten:\n",
    "            full_amount_manhatten.append(full_amount[key])\n",
    "        elif key in setup.queens: \n",
    "            full_amount_queens.append(full_amount[key])\n",
    "        elif key in setup.staten_island:\n",
    "            full_amount_staten_island.append(full_amount[key])            \n",
    "    return [sum(er_amount_bronx)/sum(full_amount_bronx), sum(er_amount_brooklyn)/sum(full_amount_brooklyn), sum(er_amount_manhatten)/sum(full_amount_manhatten), sum(er_amount_queens)/sum(full_amount_queens), sum(er_amount_staten_island)/sum(full_amount_staten_island)] \n",
    "\n",
    "def sum_up(year):\n",
    "    amounts = setup.np.array([0.0,0.0,0.0,0.0,0.0])\n",
    "    for month in year:\n",
    "        amounts += setup.np.array(month)\n",
    "    return amounts\n",
    "\n",
    "def er_district_amounts_percentages(array):\n",
    "    month_percentage = []\n",
    "    for item in array:\n",
    "        month_percentage.append(item / sum(array)*100)\n",
    "    return month_percentage\n",
    "\n",
    "def pu_manhatten(month):\n",
    "    full_amount = month.loc[month.PULocationID.isin(setup.manhatten)]['PULocationID'].value_counts()\n",
    "    er_amount = month.loc[(month.PULocationID.isin(setup.manhatten)) & (month['passenger_count'] == 0)]['PULocationID'].value_counts()\n",
    "    return er_amount/full_amount\n",
    "\n",
    "def do_manhatten(month):\n",
    "    full_amount = month.loc[month.DOLocationID.isin(setup.manhatten)]['DOLocationID'].value_counts()\n",
    "    er_amount = month.loc[(month.DOLocationID.isin(setup.manhatten)) & (month['passenger_count'] == 0)]['DOLocationID'].value_counts()\n",
    "    return er_amount/full_amount\n",
    "\n",
    "def percentage(month):\n",
    "    return month / month.sum() * 100\n",
    "\n",
    "def center(center):\n",
    "    er_center = []\n",
    "    for category in range(5): \n",
    "        tmp = center.loc[(center >= category)&(center < category+1)]\n",
    "        tmp_list = []\n",
    "        for key in tmp.keys():\n",
    "            tmp_list.append(key)\n",
    "        er_center.append(tmp_list)\n",
    "    return er_center\n",
    "\n",
    "def result_districts(er_percentages, er_year, title):\n",
    "    print('-------------------- YEAR AVERAGE --------------------')\n",
    "    print(er_percentages, '\\n\\n')\n",
    "    for index in range(12):\n",
    "        print('--------------------', setup.month_labels[index], '--------------------')\n",
    "        print(er_district_amounts_percentages(er_year[index]), '\\n')\n",
    "    fig = setup.plt.figure(figsize =(10, 10))\n",
    "    setup.plt.title(title)\n",
    "    setup.plt.pie(er_percentages, colors=setup.district_colors)\n",
    "    setup.plt.legend(setup.district_labels,loc=3)\n",
    "    setup.plt.show()\n",
    "\n",
    "def result_manhatten(manhatten):\n",
    "    for index in range(5):\n",
    "        print('---------- Category', index, '----------')\n",
    "        print(center(manhatten/12)[index], '\\n')"
   ]
  },
  {
   "cell_type": "markdown",
   "metadata": {},
   "source": [
    "# PULocationID\n",
    "#### Distribution of empty run starts per district of New York City"
   ]
  },
  {
   "cell_type": "code",
   "execution_count": null,
   "metadata": {},
   "outputs": [],
   "source": [
    "er_year_amounts = []\n",
    "for month in setup.year:\n",
    "    er_year_amounts.append(distrct_amounts(month, 'PULocationID')) \n",
    "result_districts(er_district_amounts_percentages(sum_up(er_year_amounts)), er_year_amounts, 'Empty Run Starts Distribution - NYC Districts')"
   ]
  },
  {
   "cell_type": "markdown",
   "metadata": {},
   "source": [
    "#### Distribution of empty runs with the start in Manhatten"
   ]
  },
  {
   "cell_type": "code",
   "execution_count": null,
   "metadata": {},
   "outputs": [],
   "source": [
    "er_year_manhatten = []\n",
    "for month in setup.year: \n",
    "    er_year_manhatten.append(pu_manhatten(month))\n",
    "er_year_manhatten_percentages = []\n",
    "for month in er_year_manhatten:\n",
    "    er_year_manhatten_percentages.append(percentage(month))\n",
    "er_manhatten_center = er_year_manhatten_percentages[0]\n",
    "index = 1\n",
    "for index in range(12):\n",
    "    er_manhatten_center += er_year_manhatten_percentages[index]\n",
    "result_manhatten(er_manhatten_center)"
   ]
  },
  {
   "cell_type": "markdown",
   "metadata": {},
   "source": [
    "![](../assets/empty_pu.jpg?raw=true)"
   ]
  },
  {
   "cell_type": "markdown",
   "metadata": {},
   "source": [
    "# DOLocationID\n",
    "#### Distribution of empty run ends per district of New York City"
   ]
  },
  {
   "cell_type": "code",
   "execution_count": null,
   "metadata": {},
   "outputs": [],
   "source": [
    "er_year_amounts = []\n",
    "for month in setup.year:\n",
    "    er_year_amounts.append(distrct_amounts(month, 'DOLocationID')) \n",
    "result_districts(er_district_amounts_percentages(sum_up(er_year_amounts)), er_year_amounts, 'Empty Run Ends Distribution - NYC Districts')"
   ]
  },
  {
   "cell_type": "markdown",
   "metadata": {},
   "source": [
    "#### Distribution of empty runs with the end in Manhatten"
   ]
  },
  {
   "cell_type": "code",
   "execution_count": null,
   "metadata": {},
   "outputs": [],
   "source": [
    "er_year_manhatten = []\n",
    "for month in setup.year: \n",
    "    er_year_manhatten.append(do_manhatten(month))\n",
    "er_year_manhatten_percentages = []\n",
    "for month in er_year_manhatten:\n",
    "    er_year_manhatten_percentages.append(percentage(month))\n",
    "er_manhatten_center = er_year_manhatten_percentages[0]\n",
    "index = 1\n",
    "for index in range(12):\n",
    "    er_manhatten_center += er_year_manhatten_percentages[index]\n",
    "result_manhatten(er_manhatten_center)"
   ]
  },
  {
   "cell_type": "markdown",
   "metadata": {},
   "source": [
    "![](../assets/empty_do.jpg?raw=true)"
   ]
  }
 ],
 "metadata": {
  "kernelspec": {
   "display_name": "Python 3.9.13 64-bit (microsoft store)",
   "language": "python",
   "name": "python3"
  },
  "language_info": {
   "name": "python",
   "version": "3.9.13"
  },
  "orig_nbformat": 4,
  "vscode": {
   "interpreter": {
    "hash": "f004ae71c413d8a3df0b87d9b3a0f1518e5351c0a5690e8892b84b64b6776c21"
   }
  }
 },
 "nbformat": 4,
 "nbformat_minor": 2
}
