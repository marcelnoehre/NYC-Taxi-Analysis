{
 "cells": [
  {
   "cell_type": "markdown",
   "metadata": {},
   "source": [
    "# Distribution of taxi trips per district of New York City"
   ]
  },
  {
   "cell_type": "code",
   "execution_count": 2,
   "metadata": {},
   "outputs": [],
   "source": [
    "import setup\n",
    "\n",
    "def district_distribution(df, location):\n",
    "    bronx,brooklyn,manhatten,queens,staten_island = [],[],[],[],[]\n",
    "    trips = df.loc[df['passenger_count'] > 0][location].value_counts()\n",
    "    for key in trips.keys():\n",
    "        if key in setup.bronx:\n",
    "            bronx.append(trips[key])\n",
    "        elif key in setup.brooklyn: \n",
    "            brooklyn.append(pu[key])\n",
    "        elif key in setup.manhatten:\n",
    "            manhatten.append(pu[key])\n",
    "        elif key in setup.queens: \n",
    "            queens.append(pu[key])\n",
    "        elif key in setup.staten_island:\n",
    "            staten_island.append(pu[key])\n",
    "    return [sum(bronx), sum(brooklyn), sum(manhatten), sum(queens), \n",
    "            sum(staten_island)] \n",
    "\n",
    "def sum_up(year):\n",
    "    distribution = setup.np.array([0,0,0,0,0])\n",
    "    for month in year:\n",
    "        distribution += setup.np.array(month)\n",
    "    return distribution\n",
    "\n",
    "def district_percentages(array):\n",
    "    percentages = []\n",
    "    for item in array:\n",
    "        percentages.append(item / sum(array)*100)\n",
    "    return percentages\n",
    "\n",
    "def show_result(percentages, year, year_label, figure_label):\n",
    "    print('-------------------- YEAR AVERAGE --------------------')\n",
    "    print(percentages, '\\n\\n')\n",
    "    for index in range(12):\n",
    "        print('--------------------', setup.month_labels[index],\n",
    "              '--------------------')\n",
    "        print(district_percentages(year[index]), '\\n')\n",
    "    fig = setup.plt.figure(figsize =(10, 10))\n",
    "    setup.plt.title('Distribution based on', figure_label,\n",
    "                    'locations - NYC Districts')\n",
    "    setup.plt.pie(percentages, colors=setup.district_colors)\n",
    "    setup.plt.legend(setup.districts,loc=3)\n",
    "    setup.plt.show()"
   ]
  },
  {
   "cell_type": "markdown",
   "metadata": {},
   "source": [
    "## PULocationID\n",
    "#### Calculate distribution based on the customer pickups"
   ]
  },
  {
   "cell_type": "code",
   "execution_count": 5,
   "metadata": {},
   "outputs": [
    {
     "name": "stdout",
     "output_type": "stream",
     "text": [
      "-------------------- YEAR AVERAGE --------------------\n",
      "[0.12484864133471305, 1.2928209133389805, 92.09748311036503, 6.482582927730117, 0.002264407231156057] \n",
      "\n",
      "\n"
     ]
    },
    {
     "ename": "AttributeError",
     "evalue": "module 'setup' has no attribute 'months'",
     "output_type": "error",
     "traceback": [
      "\u001b[1;31m---------------------------------------------------------------------------\u001b[0m",
      "\u001b[1;31mAttributeError\u001b[0m                            Traceback (most recent call last)",
      "\u001b[1;32mc:\\Programmierprojekte\\NYC-Taxi-Analysis\\analyses\\distribution.ipynb Zelle 4\u001b[0m in \u001b[0;36m<cell line: 37>\u001b[1;34m()\u001b[0m\n\u001b[0;32m     <a href='vscode-notebook-cell:/c%3A/Programmierprojekte/NYC-Taxi-Analysis/analyses/distribution.ipynb#W5sZmlsZQ%3D%3D?line=35'>36</a>\u001b[0m \u001b[39mprint\u001b[39m(pu_percentages, \u001b[39m'\u001b[39m\u001b[39m\\n\u001b[39;00m\u001b[39m\\n\u001b[39;00m\u001b[39m'\u001b[39m)\n\u001b[0;32m     <a href='vscode-notebook-cell:/c%3A/Programmierprojekte/NYC-Taxi-Analysis/analyses/distribution.ipynb#W5sZmlsZQ%3D%3D?line=36'>37</a>\u001b[0m \u001b[39mfor\u001b[39;00m index \u001b[39min\u001b[39;00m \u001b[39mrange\u001b[39m(\u001b[39m12\u001b[39m):\n\u001b[1;32m---> <a href='vscode-notebook-cell:/c%3A/Programmierprojekte/NYC-Taxi-Analysis/analyses/distribution.ipynb#W5sZmlsZQ%3D%3D?line=37'>38</a>\u001b[0m     \u001b[39mprint\u001b[39m(\u001b[39m'\u001b[39m\u001b[39m--------------------\u001b[39m\u001b[39m'\u001b[39m, setup\u001b[39m.\u001b[39;49mmonths[index], \u001b[39m'\u001b[39m\u001b[39m--------------------\u001b[39m\u001b[39m'\u001b[39m)\n\u001b[0;32m     <a href='vscode-notebook-cell:/c%3A/Programmierprojekte/NYC-Taxi-Analysis/analyses/distribution.ipynb#W5sZmlsZQ%3D%3D?line=38'>39</a>\u001b[0m     \u001b[39mprint\u001b[39m(pu_district_amounts_percentages(pu_year_amounts[index]), \u001b[39m'\u001b[39m\u001b[39m\\n\u001b[39;00m\u001b[39m'\u001b[39m)\n\u001b[0;32m     <a href='vscode-notebook-cell:/c%3A/Programmierprojekte/NYC-Taxi-Analysis/analyses/distribution.ipynb#W5sZmlsZQ%3D%3D?line=39'>40</a>\u001b[0m fig \u001b[39m=\u001b[39m setup\u001b[39m.\u001b[39mplt\u001b[39m.\u001b[39mfigure(figsize \u001b[39m=\u001b[39m(\u001b[39m10\u001b[39m, \u001b[39m10\u001b[39m))\n",
      "\u001b[1;31mAttributeError\u001b[0m: module 'setup' has no attribute 'months'"
     ]
    }
   ],
   "source": [
    "pu_year = []\n",
    "for month in setup.year:\n",
    "    pu_year.append(district_distribution(month, 'PULocationID'))\n",
    "pu_distribution = sum_up(pu_year)\n",
    "pu_percentages = district_percentages(pu_distribution)\n",
    "show_result(pu_percentages, pu_year, 'pickup')"
   ]
  },
  {
   "cell_type": "markdown",
   "metadata": {},
   "source": [
    "## DOLocationID\n",
    "#### Calculate distribution based on the customer dropoffs"
   ]
  },
  {
   "cell_type": "code",
   "execution_count": null,
   "metadata": {},
   "outputs": [],
   "source": [
    "do_year = []\n",
    "for month in setup.year:\n",
    "    do_year.append(district_distribution(month, 'DOLocationID'))\n",
    "do_distribution = sum_up(do_year)\n",
    "do_percentages = district_percentages(do_distribution)\n",
    "show_result(do_percentages, do_year, 'dropoff')"
   ]
  }
 ],
 "metadata": {
  "kernelspec": {
   "display_name": "Python 3.9.13 64-bit (windows store)",
   "language": "python",
   "name": "python3"
  },
  "language_info": {
   "codemirror_mode": {
    "name": "ipython",
    "version": 3
   },
   "file_extension": ".py",
   "mimetype": "text/x-python",
   "name": "python",
   "nbconvert_exporter": "python",
   "pygments_lexer": "ipython3",
   "version": "3.9.13"
  },
  "orig_nbformat": 4,
  "vscode": {
   "interpreter": {
    "hash": "f004ae71c413d8a3df0b87d9b3a0f1518e5351c0a5690e8892b84b64b6776c21"
   }
  }
 },
 "nbformat": 4,
 "nbformat_minor": 2
}
