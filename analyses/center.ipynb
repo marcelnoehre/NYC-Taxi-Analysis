{
 "cells": [
  {
   "cell_type": "markdown",
   "metadata": {},
   "source": [
    "# Center of Manhatten based on taxi trips"
   ]
  },
  {
   "cell_type": "code",
   "execution_count": 1,
   "metadata": {},
   "outputs": [],
   "source": [
    "import setup\n",
    "\n",
    "def manhatten_pu(month):\n",
    "    return month.loc[(month.PULocationID.isin(setup.manhatten)) & \n",
    "                     (month['passenger_count'] > 0)]['PULocationID'].value_counts()\n",
    "\n",
    "def manhatten_do(month):\n",
    "    return month.loc[(month.DOLocationID.isin(setup.manhatten)) &\n",
    "                     (month['passenger_count'] > 0)]['DOLocationID'].value_counts()\n",
    "\n",
    "def percentage(month):\n",
    "    return month / month.sum() * 100\n",
    "\n",
    "def center(center):\n",
    "    manhatten_center = []\n",
    "    for category in range(5): \n",
    "        tmp = center.loc[(center >= category)&(center < category+1)]\n",
    "        tmp_list = []\n",
    "        for key in tmp.keys():\n",
    "            tmp_list.append(key)\n",
    "        manhatten_center.append(tmp_list)\n",
    "    return manhatten_center\n",
    "\n",
    "def result(center):\n",
    "    for index in range(5):\n",
    "        print('---------- Category', index, '----------')\n",
    "        print(center[index], '\\n')"
   ]
  },
  {
   "cell_type": "markdown",
   "metadata": {},
   "source": [
    "# PULocationID\n",
    "#### Calculate the center of Manhatten based on the customer pickups"
   ]
  },
  {
   "cell_type": "code",
   "execution_count": 2,
   "metadata": {},
   "outputs": [
    {
     "name": "stdout",
     "output_type": "stream",
     "text": [
      "---------- Category 0 ----------\n",
      "[4, 12, 13, 24, 41, 42, 45, 74, 75, 87, 88, 105, 116, 120, 125, 127, 128, 151, 152, 153, 166, 194, 202, 209, 211, 224, 232, 243, 244, 261] \n",
      "\n",
      "---------- Category 1 ----------\n",
      "[43, 50, 90, 113, 114, 137, 140, 143, 144, 148, 158, 231, 233, 246, 262] \n",
      "\n",
      "---------- Category 2 ----------\n",
      "[68, 79, 100, 107, 141, 163, 164, 229, 238, 239, 249, 263] \n",
      "\n",
      "---------- Category 3 ----------\n",
      "[48, 142, 162, 170, 186, 230, 234] \n",
      "\n",
      "---------- Category 4 ----------\n",
      "[161, 236, 237] \n",
      "\n"
     ]
    }
   ],
   "source": [
    "pu_manhatten = []\n",
    "for month in setup.year: \n",
    "    pu_manhatten.append(manhatten_pu(month))\n",
    "pu_manhatten_percentages = []\n",
    "for month in pu_manhatten:\n",
    "    pu_manhatten_percentages.append(percentage(month)) \n",
    "result(center(sum(pu_manhatten_percentages)/12))"
   ]
  },
  {
   "cell_type": "markdown",
   "metadata": {},
   "source": [
    "![image](../assets/manhatten_pu_center.jpg?raw=true)"
   ]
  },
  {
   "cell_type": "markdown",
   "metadata": {},
   "source": [
    "# DOLocationID\n",
    "#### Calculate the center of Manhatten based on the customer dropoffs"
   ]
  },
  {
   "cell_type": "code",
   "execution_count": 3,
   "metadata": {},
   "outputs": [
    {
     "name": "stdout",
     "output_type": "stream",
     "text": [
      "---------- Category 0 ----------\n",
      "[4, 12, 24, 41, 42, 45, 74, 87, 88, 105, 116, 120, 125, 127, 128, 151, 152, 153, 166, 194, 202, 209, 211, 224, 232, 243, 244, 261] \n",
      "\n",
      "---------- Category 1 ----------\n",
      "[13, 43, 50, 75, 90, 100, 113, 114, 137, 143, 144, 148, 158, 231, 233, 249, 262] \n",
      "\n",
      "---------- Category 2 ----------\n",
      "[68, 79, 107, 140, 141, 163, 164, 186, 229, 238, 239, 246, 263] \n",
      "\n",
      "---------- Category 3 ----------\n",
      "[48, 142, 162, 170, 230, 234] \n",
      "\n",
      "---------- Category 4 ----------\n",
      "[161, 236, 237] \n",
      "\n"
     ]
    }
   ],
   "source": [
    "do_manhatten = []\n",
    "for month in setup.year: \n",
    "    do_manhatten.append(manhatten_do(month))\n",
    "do_manhatten_percentages = []\n",
    "for month in do_manhatten:\n",
    "    do_manhatten_percentages.append(percentage(month))\n",
    "result(center(sum(do_manhatten_percentages)/12))"
   ]
  },
  {
   "cell_type": "markdown",
   "metadata": {},
   "source": [
    "![image](../assets/manhatten_do_center.jpg?raw=true)"
   ]
  }
 ],
 "metadata": {
  "kernelspec": {
   "display_name": "Python 3.9.13 64-bit (windows store)",
   "language": "python",
   "name": "python3"
  },
  "language_info": {
   "codemirror_mode": {
    "name": "ipython",
    "version": 3
   },
   "file_extension": ".py",
   "mimetype": "text/x-python",
   "name": "python",
   "nbconvert_exporter": "python",
   "pygments_lexer": "ipython3",
   "version": "3.9.13"
  },
  "orig_nbformat": 4,
  "vscode": {
   "interpreter": {
    "hash": "f004ae71c413d8a3df0b87d9b3a0f1518e5351c0a5690e8892b84b64b6776c21"
   }
  }
 },
 "nbformat": 4,
 "nbformat_minor": 2
}
