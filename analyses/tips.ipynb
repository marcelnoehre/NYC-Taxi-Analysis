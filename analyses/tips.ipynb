{
 "cells": [
  {
   "cell_type": "markdown",
   "metadata": {},
   "source": [
    "# Tip amounts of taxi trips"
   ]
  },
  {
   "cell_type": "code",
   "execution_count": null,
   "metadata": {},
   "outputs": [],
   "source": [
    "import setup\n",
    "\n",
    "def districts_tips(month):\n",
    "    return month.loc[(month['payment_type'] == 1) & (month['passenger_count'] > 0)][['PULocationID', 'tip_amount']]\n",
    "    \n",
    "\n",
    "def devide_by_districts(month):\n",
    "    districts = [0,0,0,0,0]\n",
    "    district_counts = [0,0,0,0,0]\n",
    "    for i in range(5):\n",
    "        districts[i] = month.loc[(month.PULocationID.isin(setup.districts[i]))]['tip_amount'].mean()\n",
    "    return districts\n",
    "\n",
    "def sum_up_districts(average, month):\n",
    "    for i in range(5):\n",
    "        average[i] += month[i]\n",
    "    return average\n",
    "\n",
    "def get_trip_tips(month):\n",
    "    return month.loc[(month['payment_type'] == 1) & (month['passenger_count'] > 0)][['tip_amount','trip_distance']].astype(float)\n",
    "\n",
    "def tip_amounts(month):\n",
    "    average = month['tip_amount'].mean()\n",
    "    lower = month.loc[month['trip_distance'] <= month['trip_distance'].mean()]['tip_amount'].mean()\n",
    "    upper = month.loc[month['trip_distance'] >= month['trip_distance'].mean()]['tip_amount'].mean()\n",
    "    return [average,lower,upper]\n",
    "\n",
    "def tip_amount_average(tip_amounts_year):\n",
    "    tmp = [0,0,0]\n",
    "    for monthly_index in range(12):\n",
    "        for tip_index in range(3):\n",
    "            tmp[tip_index] += tip_amounts_year[monthly_index][tip_index]\n",
    "    for i in range(3):\n",
    "        tmp[i] /= 12\n",
    "    return tmp\n",
    "\n",
    "def result(tip_amounts_year):\n",
    "    for monthly_index in range(12):\n",
    "        print('----------', setup.month_labels[monthly_index], '----------')\n",
    "        for tip_index in range(3):\n",
    "            print(setup.tip_labels[tip_index], '=', tip_amounts_year[monthly_index][tip_index])\n",
    "        print('')"
   ]
  },
  {
   "cell_type": "markdown",
   "metadata": {},
   "source": [
    "# NYC districts\n",
    "#### Tip amount for each district in NYC"
   ]
  },
  {
   "cell_type": "code",
   "execution_count": null,
   "metadata": {},
   "outputs": [],
   "source": [
    "both_year_from_manhatten = []\n",
    "for month in setup.year:\n",
    "    both_year_from_manhatten.append(districts_tips(month))\n",
    "tips_year_from_manhatten = []\n",
    "for month in both_year_from_manhatten:\n",
    "    tips_year_from_manhatten.append(devide_by_districts(month))\n",
    "average_tips = [0,0,0,0,0]\n",
    "for month in tips_year_from_manhatten:\n",
    "    average_tips = sum_up_districts(average_tips, month)\n",
    "for i in range(5):\n",
    "    average_tips[i] /= 12\n",
    "\n",
    "print('-------------------- YEAR AVERAGE --------------------')\n",
    "print(average_tips, '\\n\\n')\n",
    "for index in range(12):\n",
    "    print('--------------------', setup.month_labels[index], '--------------------')\n",
    "    print(tips_year_from_manhatten[index], '\\n')\n",
    "fig = setup.plt.figure(figsize =(10, 10))\n",
    "setup.plt.title('District average tips')\n",
    "setup.plt.pie(average_tips, colors=setup.district_colors)\n",
    "setup.plt.legend(setup.district_labels,loc=3)\n",
    "setup.plt.show()"
   ]
  },
  {
   "cell_type": "markdown",
   "metadata": {},
   "source": [
    "# Tip amounts\n",
    "#### Tip amounts based on trip distance"
   ]
  },
  {
   "cell_type": "code",
   "execution_count": null,
   "metadata": {},
   "outputs": [],
   "source": [
    "splitted_trips = []\n",
    "for month in setup.year:\n",
    "    splitted_trips.append(get_trip_tips(month))\n",
    "tip_amounts_year = []\n",
    "for month in splitted_trips:\n",
    "    tip_amounts_year.append(tip_amounts(month))\n",
    "tip_amounts_average = tip_amount_average(tip_amounts_year)\n",
    "print('---------- YEAR AVERAGE ----------')\n",
    "for index in range(3):\n",
    "    print(setup.tip_labels[index], '=', tip_amounts_average[index])\n",
    "print('\\n')\n",
    "result(tip_amounts_year)"
   ]
  }
 ],
 "metadata": {
  "kernelspec": {
   "display_name": "Python 3.9.13 64-bit (microsoft store)",
   "language": "python",
   "name": "python3"
  },
  "language_info": {
   "codemirror_mode": {
    "name": "ipython",
    "version": 3
   },
   "file_extension": ".py",
   "mimetype": "text/x-python",
   "name": "python",
   "nbconvert_exporter": "python",
   "pygments_lexer": "ipython3",
   "version": "3.9.13"
  },
  "orig_nbformat": 4,
  "vscode": {
   "interpreter": {
    "hash": "f004ae71c413d8a3df0b87d9b3a0f1518e5351c0a5690e8892b84b64b6776c21"
   }
  }
 },
 "nbformat": 4,
 "nbformat_minor": 2
}
